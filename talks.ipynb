{
  "cells": [
    {
      "cell_type": "raw",
      "metadata": {},
      "source": [
        "---\n",
        "title: Conference Talks\n",
        "---"
      ],
      "id": "391d3381"
    },
    {
      "cell_type": "markdown",
      "metadata": {},
      "source": [
        "### 2023\n",
        "\n",
        "Conversation - Museo Numismatico, Banco Central del Ecuador. Montalvo Puente C. E., Lago G., **Cardarelli L.**, Pérez Molina J. C., Avances sobre los estudios de las hachas-monedasQuito (ECU), 23 July 2023.\n",
        "\n",
        "13° International Congress on the Archaeology of the Ancient Near East (ICAANE). Workshop Serialising, standardising, specialising: Investigating a techno-social nexus underlying social complexity. **Cardarelli L.**, Computerised approaches for investigating the morphological standardization of Arslantepe VI A pottery, Copenhagen, 24 may 2023\n",
        "\n",
        "### 2020\n",
        "\n",
        "IAS -- Incontri di Archeologia 2020. Digital Humanities Session I-II. **Cardarelli L.**, Capienza delle forme vascolari, un metodo basato su strumenti e formati open source che include l'uso di modelli regressivi: il caso dell'insediamento protostorico del Monte Cimino (paper). Rome, 19 november 2020."
      ],
      "id": "3194ff01"
    }
  ],
  "metadata": {
    "kernelspec": {
      "display_name": "Python 3",
      "language": "python",
      "name": "python3"
    }
  },
  "nbformat": 4,
  "nbformat_minor": 5
}