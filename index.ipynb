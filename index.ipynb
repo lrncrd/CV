{
  "cells": [
    {
      "cell_type": "raw",
      "metadata": {},
      "source": [
        "---\n",
        "title: Lorenzo Cardarelli\n",
        "about:\n",
        "  id: hero-heading\n",
        "  template: solana\n",
        "  image: profile.jpg\n",
        "  image-shape: round\n",
        "  links:\n",
        "    - icon: twitter\n",
        "      text: Twitter\n",
        "      href: 'https://twitter.com/Lrn_crd'\n",
        "    - icon: github\n",
        "      text: GitHub\n",
        "      href: 'https://github.com/lrncrd'\n",
        "    - icon: envelope\n",
        "      text: Email\n",
        "      href: 'mailto:lorenzo.cardarelli@uniba.it'\n",
        "    - text: Researchgate\n",
        "      href: 'https://www.researchgate.net/profile/Lorenzo-Cardarelli-2'\n",
        "    - text: ORCID\n",
        "      href: 'https://orcid.org/0000-0002-2436-9967'\n",
        "    - text: CV\n",
        "      icon: file-person\n",
        "      href: 'https://lrncrd.github.io/full_cv.pdf'\n",
        "---"
      ],
      "id": "f2229188"
    },
    {
      "cell_type": "markdown",
      "metadata": {},
      "source": [
        "::: {#hero-heading}\n",
        "Research Fellow, Dipartimento di Scienze dell'Antichità, University of Roma La Sapienza \\| PhD candidate \\| Department of Ricerca e Innovazione Umanistica, University of Bari Aldo Moro \\| Associate researcher, CNR - Istituto di Scienze del Patrimonio Culturale, Area della Ricerca Roma 1.\n",
        ":::\n",
        "\n",
        "## About me\n",
        "\n",
        "***Hi!***\n",
        "\n",
        "I am currently a postdoctoral researcher at the University of Rome La Sapienza. I'm also an Associate Researcher at the CNR-ISPC. My research interests mainly concern the application of quantitative and computational methods to archaeology, with a particular focus on the application of unsupervised learning methods to ceramics.\n",
        "\n",
        "#### Research Interests\n",
        "\n",
        "-   Quantitative approach in archaeology\n",
        "-   Bronze and Iron Age\n",
        "-   Machine Learning application in archaeology\n",
        "-   GIS application in archaeology\n",
        "-   Unsupervised Learning in archaeology"
      ],
      "id": "e80d75b8"
    }
  ],
  "metadata": {
    "kernelspec": {
      "display_name": "Python 3",
      "language": "python",
      "name": "python3"
    }
  },
  "nbformat": 4,
  "nbformat_minor": 5
}